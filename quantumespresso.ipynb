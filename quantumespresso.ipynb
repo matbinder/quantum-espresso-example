{
 "cells": [
  {
   "cell_type": "markdown",
   "metadata": {},
   "source": [
    "Using pseudo potentials from https://www.physics.rutgers.edu/gbrv/"
   ]
  },
  {
   "cell_type": "code",
   "execution_count": 1,
   "metadata": {},
   "outputs": [],
   "source": [
    "from ase.build import bulk\n",
    "from ase.calculators.espresso import Espresso\n",
    "from ase.constraints import UnitCellFilter\n",
    "from ase.optimize import LBFGS"
   ]
  },
  {
   "cell_type": "code",
   "execution_count": null,
   "metadata": {},
   "outputs": [],
   "source": [
    "pseudopotentials = {'Na': 'Na.pbe-spn-rrkjus_psl.1.0.0.UPF',\n",
    "                    'Cl': 'Cl.pbe-nl-rrkjus_psl.1.0.0.UPF'}"
   ]
  },
  {
   "cell_type": "code",
   "execution_count": null,
   "metadata": {},
   "outputs": [],
   "source": [
    "rocksalt = bulk('NaCl', crystalstructure='rocksalt', a=6.0)\n",
    "calc = Espresso(pseudopotentials=pseudopotentials,\n",
    "                tstress=True, tprnfor=True, kpts=(3, 3, 3))\n",
    "rocksalt.calc = calc"
   ]
  },
  {
   "cell_type": "code",
   "execution_count": null,
   "metadata": {},
   "outputs": [],
   "source": [
    "ucf = UnitCellFilter(rocksalt)\n",
    "opt = LBFGS(ucf)\n",
    "opt.run(fmax=0.005)"
   ]
  },
  {
   "cell_type": "code",
   "execution_count": null,
   "metadata": {},
   "outputs": [],
   "source": [
    "# cubic lattic constant\n",
    "print((8*rocksalt.get_volume()/len(rocksalt))**(1.0/3.0))"
   ]
  }
 ],
 "metadata": {
  "kernelspec": {
   "display_name": "Python 3",
   "language": "python",
   "name": "python3"
  },
  "language_info": {
   "codemirror_mode": {
    "name": "ipython",
    "version": 3
   },
   "file_extension": ".py",
   "mimetype": "text/x-python",
   "name": "python",
   "nbconvert_exporter": "python",
   "pygments_lexer": "ipython3",
   "version": "3.7.6"
  }
 },
 "nbformat": 4,
 "nbformat_minor": 4
}
